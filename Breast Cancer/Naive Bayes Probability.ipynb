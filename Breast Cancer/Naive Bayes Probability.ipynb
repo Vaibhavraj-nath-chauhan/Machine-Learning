{
 "cells": [
  {
   "cell_type": "code",
   "execution_count": 1,
   "metadata": {},
   "outputs": [],
   "source": [
    "from sklearn.datasets import load_breast_cancer\n",
    "import matplotlib.pyplot as plt\n",
    "\n",
    "bc = load_breast_cancer()\n",
    "\n",
    "data = bc[\"data\"]\n",
    "target = bc[\"target\"]\n",
    "output = bc[\"target_names\"]\n",
    "\n",
    "from sklearn.model_selection import train_test_split\n",
    "\n",
    "trainX,testX,trainY,testY = train_test_split(data,target,test_size = .3)"
   ]
  },
  {
   "cell_type": "markdown",
   "metadata": {},
   "source": [
    "#### Naive Bayes Probability"
   ]
  },
  {
   "cell_type": "code",
   "execution_count": 6,
   "metadata": {},
   "outputs": [
    {
     "name": "stdout",
     "output_type": "stream",
     "text": [
      "Confussion Martic: \n",
      " [[ 54   5]\n",
      " [  3 109]]\n",
      "\n",
      "\n",
      "r2 score:  79.29782082324456\n",
      "\n",
      "\n",
      "Accuracy:  95.32163742690058\n"
     ]
    }
   ],
   "source": [
    "from sklearn.naive_bayes import GaussianNB\n",
    "from sklearn.metrics import r2_score,accuracy_score,confusion_matrix\n",
    "\n",
    "model = GaussianNB()\n",
    "model = model.fit(trainX,trainY)\n",
    "\n",
    "pred = model.predict(testX)\n",
    "\n",
    "r2 = r2_score(testY,pred)*100\n",
    "cm = confusion_matrix(testY,pred)\n",
    "acc = accuracy_score(testY,pred)*100\n",
    "\n",
    "print(\"Confussion Martic: \\n\",cm)\n",
    "print(\"\\n\\nr2 score: \",r2)\n",
    "print(\"\\n\\nAccuracy: \",acc)"
   ]
  }
 ],
 "metadata": {
  "kernelspec": {
   "display_name": "Python 3",
   "language": "python",
   "name": "python3"
  },
  "language_info": {
   "codemirror_mode": {
    "name": "ipython",
    "version": 3
   },
   "file_extension": ".py",
   "mimetype": "text/x-python",
   "name": "python",
   "nbconvert_exporter": "python",
   "pygments_lexer": "ipython3",
   "version": "3.7.6"
  }
 },
 "nbformat": 4,
 "nbformat_minor": 4
}
