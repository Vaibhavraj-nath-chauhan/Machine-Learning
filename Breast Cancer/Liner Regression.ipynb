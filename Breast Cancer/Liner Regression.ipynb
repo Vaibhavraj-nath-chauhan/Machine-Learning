{
 "cells": [
  {
   "cell_type": "code",
   "execution_count": 10,
   "metadata": {},
   "outputs": [],
   "source": [
    "from sklearn.datasets import load_breast_cancer\n",
    "import matplotlib.pyplot as plt\n",
    "\n",
    "bc = load_breast_cancer()\n",
    "\n",
    "data = bc[\"data\"]\n",
    "target = bc[\"target\"]\n",
    "output = bc[\"target_names\"]\n",
    "\n",
    "from sklearn.model_selection import train_test_split\n",
    "\n",
    "trainX,testX,trainY,testY = train_test_split(data,target,test_size = .3)"
   ]
  },
  {
   "cell_type": "markdown",
   "metadata": {},
   "source": [
    "####  Liner Regression"
   ]
  },
  {
   "cell_type": "code",
   "execution_count": 11,
   "metadata": {},
   "outputs": [
    {
     "name": "stdout",
     "output_type": "stream",
     "text": [
      "76.06082928386869\n"
     ]
    }
   ],
   "source": [
    "from sklearn.linear_model import LinearRegression\n",
    "from sklearn.metrics import r2_score,confusion_matrix,accuracy_score\n",
    "\n",
    "model = LinearRegression()\n",
    "model = model.fit(trainX,trainY)\n",
    "\n",
    "pred = model.predict(testX)\n",
    "\n",
    "r2 = r2_score(testY,pred)*100\n",
    "print(r2)\n",
    "#no confussion matrix and accuracy socre as we are getting error..\n",
    "#..(Classification metrics can't handle a mix of binary and continuous targets)"
   ]
  }
 ],
 "metadata": {
  "kernelspec": {
   "display_name": "Python 3",
   "language": "python",
   "name": "python3"
  },
  "language_info": {
   "codemirror_mode": {
    "name": "ipython",
    "version": 3
   },
   "file_extension": ".py",
   "mimetype": "text/x-python",
   "name": "python",
   "nbconvert_exporter": "python",
   "pygments_lexer": "ipython3",
   "version": "3.7.6"
  }
 },
 "nbformat": 4,
 "nbformat_minor": 4
}
