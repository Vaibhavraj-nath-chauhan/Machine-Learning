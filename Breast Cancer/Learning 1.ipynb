{
 "cells": [
  {
   "cell_type": "code",
   "execution_count": 1,
   "metadata": {},
   "outputs": [],
   "source": [
    "from sklearn.datasets import load_breast_cancer\n",
    "import matplotlib.pyplot as plt\n",
    "\n",
    "bc = load_breast_cancer()\n",
    "\n",
    "data = bc[\"data\"]\n",
    "target = bc[\"target\"]\n",
    "output = bc[\"target_names\"]\n",
    "\n",
    "from sklearn.model_selection import train_test_split\n",
    "\n",
    "trainX,testX,trainY,testY = train_test_split(data,target,test_size = .3,random_state = 42)"
   ]
  },
  {
   "cell_type": "markdown",
   "metadata": {},
   "source": [
    "####  Liner Regession "
   ]
  },
  {
   "cell_type": "code",
   "execution_count": 14,
   "metadata": {},
   "outputs": [
    {
     "name": "stdout",
     "output_type": "stream",
     "text": [
      "71.08399944964147\n"
     ]
    }
   ],
   "source": [
    "from sklearn.linear_model import LinearRegression\n",
    "from sklearn.metrics import r2_score,confusion_matrix,accuracy_score\n",
    "\n",
    "model = LinearRegression()\n",
    "model = model.fit(trainX,trainY)\n",
    "\n",
    "pred = model.predict(testX)\n",
    "\n",
    "score = model.score(testX,testY)\n",
    "r2 = r2_score(testY,pred)*100\n",
    "print(r2)\n",
    "#no confussion matrix and accuracy socre as we are getting error..\n",
    "#..(Classification metrics can't handle a mix of binary and continuous targets)"
   ]
  },
  {
   "cell_type": "markdown",
   "metadata": {},
   "source": [
    "#### Logestic regression"
   ]
  },
  {
   "cell_type": "code",
   "execution_count": 3,
   "metadata": {},
   "outputs": [
    {
     "name": "stdout",
     "output_type": "stream",
     "text": [
      "Confussion Martic: \n",
      " [[ 61   2]\n",
      " [  2 106]]\n",
      "r2 score:  89.94708994708995\n",
      "Accuracy:  97.6608187134503\n"
     ]
    }
   ],
   "source": [
    "from sklearn.linear_model import LogisticRegression\n",
    "from sklearn.metrics import r2_score,confusion_matrix,accuracy_score\n",
    "\n",
    "model = LogisticRegression(max_iter=10000)\n",
    "model = model.fit(trainX,trainY)\n",
    "\n",
    "pred =model.predict(testX)\n",
    "\n",
    "cm = confusion_matrix(testY,pred)\n",
    "r2 = r2_score(testY,pred)*100\n",
    "acc = accuracy_score(testY,pred)*100\n",
    "\n",
    "print(\"Confussion Martic: \\n\",cm)\n",
    "print(\"r2 score: \",r2)\n",
    "print(\"Accuracy: \",acc)"
   ]
  },
  {
   "cell_type": "markdown",
   "metadata": {},
   "source": [
    "#### K- Nearst Neighbours"
   ]
  },
  {
   "cell_type": "code",
   "execution_count": 4,
   "metadata": {},
   "outputs": [
    {
     "name": "stdout",
     "output_type": "stream",
     "text": [
      "Confussion Martic: \n",
      " [[ 61   2]\n",
      " [  1 107]]\n",
      "r2 score:  92.46031746031747\n",
      "Accuracy:  98.24561403508771\n"
     ]
    }
   ],
   "source": [
    "from sklearn.neighbors import KNeighborsClassifier\n",
    "from sklearn.metrics import r2_score,accuracy_score,confusion_matrix\n",
    "model = KNeighborsClassifier(n_neighbors=10)\n",
    "model = model.fit(trainX,trainY)\n",
    "pred = model.predict(testX)\n",
    "\n",
    "r2 = r2_score(testY,pred)*100\n",
    "cm = confusion_matrix(testY,pred)\n",
    "acc = accuracy_score(testY,pred)*100\n",
    "\n",
    "print(\"Confussion Martic: \\n\",cm)\n",
    "print(\"r2 score: \",r2)\n",
    "print(\"Accuracy: \",acc)"
   ]
  },
  {
   "cell_type": "markdown",
   "metadata": {},
   "source": [
    "#### Naive Bayes Probability"
   ]
  },
  {
   "cell_type": "code",
   "execution_count": 5,
   "metadata": {},
   "outputs": [
    {
     "name": "stdout",
     "output_type": "stream",
     "text": [
      "Confussion Martic: \n",
      " [[ 57   6]\n",
      " [  4 104]]\n",
      "r2 score:  74.86772486772486\n",
      "Accuracy:  94.15204678362574\n"
     ]
    }
   ],
   "source": [
    "from sklearn.naive_bayes import GaussianNB\n",
    "from sklearn.metrics import r2_score,accuracy_score,confusion_matrix\n",
    "\n",
    "model = GaussianNB()\n",
    "model = model.fit(trainX,trainY)\n",
    "\n",
    "pred = model.predict(testX)\n",
    "\n",
    "r2 = r2_score(testY,pred)*100\n",
    "cm = confusion_matrix(testY,pred)\n",
    "acc = accuracy_score(testY,pred)*100\n",
    "\n",
    "print(\"Confussion Martic: \\n\",cm)\n",
    "print(\"r2 score: \",r2)\n",
    "print(\"Accuracy: \",acc)"
   ]
  },
  {
   "cell_type": "markdown",
   "metadata": {},
   "source": [
    "#### K-Means"
   ]
  },
  {
   "cell_type": "code",
   "execution_count": 6,
   "metadata": {},
   "outputs": [],
   "source": [
    "from sklearn.cluster import KMeans\n",
    "import matplotlib.pyplot as plt\n",
    "sse = []\n",
    "x = []\n",
    "for i in range(1,10): \n",
    "    model = KMeans(n_clusters=i)\n",
    "    model = model.fit(data)\n",
    "    sse.append(model.inertia_)\n",
    "    x.append(i)"
   ]
  },
  {
   "cell_type": "code",
   "execution_count": 7,
   "metadata": {},
   "outputs": [
    {
     "data": {
      "image/png": "[encoded data removed]",
      "text/plain": [
       "<Figure size 432x288 with 1 Axes>"
      ]
     },
     "metadata": {
      "needs_background": "light"
     },
     "output_type": "display_data"
    }
   ],
   "source": [
    "plt.plot(x,sse)\n",
    "plt.show()"
   ]
  },
  {
   "cell_type": "code",
   "execution_count": 8,
   "metadata": {},
   "outputs": [
    {
     "data": {
      "text/plain": [
       "0.14586994727592267"
      ]
     },
     "execution_count": 8,
     "metadata": {},
     "output_type": "execute_result"
    }
   ],
   "source": [
    "model = KMeans(n_clusters=2)\n",
    "model = model.fit(data)\n",
    "centroids = model.cluster_centers_\n",
    "labels = model.labels_\n",
    "accuracy_score(target,labels)"
   ]
  },
  {
   "cell_type": "markdown",
   "metadata": {},
   "source": [
    "#### Decession Tree Algo"
   ]
  },
  {
   "cell_type": "code",
   "execution_count": 9,
   "metadata": {},
   "outputs": [
    {
     "name": "stdout",
     "output_type": "stream",
     "text": [
      "Confussion Martic: \n",
      " [[ 58   5]\n",
      " [  8 100]]\n",
      "r2 score:  67.32804232804233\n",
      "Accuracy:  92.39766081871345\n"
     ]
    }
   ],
   "source": [
    "from sklearn.tree import DecisionTreeClassifier\n",
    "from sklearn.metrics import r2_score,accuracy_score,confusion_matrix\n",
    "\n",
    "model = DecisionTreeClassifier()\n",
    "model.fit(trainX,trainY)\n",
    "\n",
    "pred = model.predict(testX)\n",
    "\n",
    "r2 = r2_score(testY,pred)*100\n",
    "cm = confusion_matrix(testY,pred)\n",
    "acc = accuracy_score(testY,pred)*100\n",
    "\n",
    "print(\"Confussion Martic: \\n\",cm)\n",
    "print(\"r2 score: \",r2)\n",
    "print(\"Accuracy: \",acc)"
   ]
  },
  {
   "cell_type": "markdown",
   "metadata": {},
   "source": [
    "#### Support Vector Machine"
   ]
  },
  {
   "cell_type": "code",
   "execution_count": 17,
   "metadata": {},
   "outputs": [
    {
     "name": "stdout",
     "output_type": "stream",
     "text": [
      "Confussion Martic: \n",
      " [[ 55   6]\n",
      " [  0 110]]\n",
      "r2 score:  84.70938897168405\n",
      "Accuracy:  96.49122807017544\n"
     ]
    }
   ],
   "source": [
    "from sklearn.svm import SVC\n",
    "from sklearn.metrics import r2_score,confusion_matrix,accuracy_score\n",
    "trainX,testX,trainY,testY = train_test_split(data,target,test_size = .3,random_state = 5)\n",
    "model = SVC()\n",
    "model.fit(trainX,trainY)\n",
    "\n",
    "pred = model.predict(testX)\n",
    "\n",
    "r2 = r2_score(testY,pred)*100\n",
    "cm = confusion_matrix(testY,pred)\n",
    "acc = accuracy_score(testY,pred)*100\n",
    "\n",
    "print(\"Confussion Martic: \\n\",cm)\n",
    "print(\"r2 score: \",r2)\n",
    "print(\"Accuracy: \",acc)"
   ]
  }
 ],
 "metadata": {
  "kernelspec": {
   "display_name": "Python 3",
   "language": "python",
   "name": "python3"
  },
  "language_info": {
   "codemirror_mode": {
    "name": "ipython",
    "version": 3
   },
   "file_extension": ".py",
   "mimetype": "text/x-python",
   "name": "python",
   "nbconvert_exporter": "python",
   "pygments_lexer": "ipython3",
   "version": "3.7.6"
  }
 },
 "nbformat": 4,
 "nbformat_minor": 4
}
