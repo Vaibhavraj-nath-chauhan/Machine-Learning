{
 "cells": [
  {
   "cell_type": "markdown",
   "metadata": {},
   "source": [
    "# Fine Tech \n",
    "(Liked or Not)"
   ]
  },
  {
   "cell_type": "markdown",
   "metadata": {},
   "source": [
    "### Importing Libraries"
   ]
  },
  {
   "cell_type": "code",
   "execution_count": 54,
   "metadata": {},
   "outputs": [],
   "source": [
    "import pandas as pd\n",
    "import numpy as np\n",
    "from sklearn.linear_model import LogisticRegression\n",
    "from sklearn.preprocessing import LabelEncoder,StandardScaler\n",
    "from sklearn.model_selection import train_test_split\n",
    "from sklearn.svm import SVC\n",
    "from os import system\n",
    "import matplotlib.pyplot as plt\n",
    "import seaborn as sns\n",
    "from imblearn.combine import SMOTETomek\n",
    "\n",
    "## Used for ignoring warning\n",
    "import warnings\n",
    "warnings.simplefilter(\"ignore\")\n",
    "## settign rows to max\n",
    "pd.set_option(\"display.max_columns\",None)"
   ]
  },
  {
   "cell_type": "code",
   "execution_count": 55,
   "metadata": {},
   "outputs": [],
   "source": [
    "df = pd.read_csv(\"FineTech_appData.csv\")"
   ]
  },
  {
   "cell_type": "code",
   "execution_count": 56,
   "metadata": {},
   "outputs": [],
   "source": [
    "for i in range(len(df[\"screen_list\"])):\n",
    "    df[\"screen_list\"][i] = len(df[\"screen_list\"][i].split(\",\"))"
   ]
  },
  {
   "cell_type": "markdown",
   "metadata": {},
   "source": [
    "##### Checking Null Values"
   ]
  },
  {
   "cell_type": "code",
   "execution_count": 57,
   "metadata": {},
   "outputs": [
    {
     "name": "stdout",
     "output_type": "stream",
     "text": [
      "user                        0\n",
      "first_open                  0\n",
      "dayofweek                   0\n",
      "hour                        0\n",
      "age                         0\n",
      "screen_list                 0\n",
      "numscreens                  0\n",
      "minigame                    0\n",
      "used_premium_feature        0\n",
      "enrolled                    0\n",
      "enrolled_date           18926\n",
      "liked                       0\n",
      "dtype: int64\n"
     ]
    }
   ],
   "source": [
    "print(df.isnull().sum())"
   ]
  },
  {
   "cell_type": "code",
   "execution_count": 58,
   "metadata": {},
   "outputs": [
    {
     "name": "stdout",
     "output_type": "stream",
     "text": [
      "user ----> 49874\n",
      "first_open ----> 49747\n",
      "dayofweek ----> 7\n",
      "hour ----> 24\n",
      "age ----> 78\n",
      "screen_list ----> 55\n",
      "numscreens ----> 151\n",
      "minigame ----> 2\n",
      "used_premium_feature ----> 2\n",
      "enrolled ----> 2\n",
      "enrolled_date ----> 31002\n",
      "liked ----> 2\n"
     ]
    }
   ],
   "source": [
    "for i in df.columns:\n",
    "    print(i,\"---->\",len(df[i].unique()))"
   ]
  },
  {
   "cell_type": "markdown",
   "metadata": {},
   "source": [
    "### Required Data"
   ]
  },
  {
   "cell_type": "code",
   "execution_count": 59,
   "metadata": {},
   "outputs": [],
   "source": [
    "x_cleaning = df.drop(columns=[\"user\",\"first_open\",\"enrolled_date\",\"liked\"],axis=1)\n",
    "y = df[\"liked\"].values"
   ]
  },
  {
   "cell_type": "markdown",
   "metadata": {},
   "source": [
    "### Label Encoding"
   ]
  },
  {
   "cell_type": "code",
   "execution_count": 60,
   "metadata": {},
   "outputs": [],
   "source": [
    "lb = LabelEncoder()\n",
    "label_data = lb.fit_transform(x_cleaning[\"hour\"])\n",
    "label_data = label_data.reshape((50000,1))\n",
    "label_data = pd.DataFrame(label_data,columns=[\"hour\"])\n",
    "\n",
    "#updating to dataset\n",
    "x_cleaning.update(label_data)"
   ]
  },
  {
   "cell_type": "code",
   "execution_count": 61,
   "metadata": {},
   "outputs": [
    {
     "data": {
      "text/plain": [
       "Index(['dayofweek', 'hour', 'age', 'screen_list', 'numscreens', 'minigame',\n",
       "       'used_premium_feature', 'enrolled'],\n",
       "      dtype='object')"
      ]
     },
     "execution_count": 61,
     "metadata": {},
     "output_type": "execute_result"
    }
   ],
   "source": [
    "x_cleaning.columns"
   ]
  },
  {
   "cell_type": "markdown",
   "metadata": {},
   "source": [
    "### Standard Scaler"
   ]
  },
  {
   "cell_type": "code",
   "execution_count": 62,
   "metadata": {},
   "outputs": [],
   "source": [
    "sc = StandardScaler()\n",
    "X = sc.fit_transform(x_cleaning)"
   ]
  },
  {
   "cell_type": "markdown",
   "metadata": {},
   "source": [
    "### Data Checking"
   ]
  },
  {
   "cell_type": "code",
   "execution_count": 63,
   "metadata": {},
   "outputs": [
    {
     "data": {
      "text/plain": [
       "[]"
      ]
     },
     "execution_count": 63,
     "metadata": {},
     "output_type": "execute_result"
    },
    {
     "data": {
      "image/png": "[encoded data removed]",
      "text/plain": [
       "<Figure size 432x288 with 1 Axes>"
      ]
     },
     "metadata": {
      "needs_background": "light"
     },
     "output_type": "display_data"
    }
   ],
   "source": [
    "checking = pd.value_counts(y,sort=True)\n",
    "checking.plot(kind='bar',rot=0)\n",
    "plt.xticks(range(2),[\"Not Liked\",\"Liked\"])\n",
    "plt.plot()"
   ]
  },
  {
   "cell_type": "markdown",
   "metadata": {},
   "source": [
    "### Data Equalizer"
   ]
  },
  {
   "cell_type": "code",
   "execution_count": 64,
   "metadata": {},
   "outputs": [
    {
     "name": "stdout",
     "output_type": "stream",
     "text": [
      "Not Liked data-> (8250, 12) \n",
      "Liked data-> (41750, 12)\n"
     ]
    }
   ],
   "source": [
    "liked_ = df[df[\"liked\"]==1]\n",
    "not_liked_ = df[df[\"liked\"]==0]\n",
    "print(\"Not Liked data->\",liked_.shape,\"\\nLiked data->\",not_liked_.shape)"
   ]
  },
  {
   "cell_type": "code",
   "execution_count": 65,
   "metadata": {},
   "outputs": [],
   "source": [
    "smt = SMOTETomek(random_state =42)\n",
    "X_res,y_res = smt.fit_sample(X,y)"
   ]
  },
  {
   "cell_type": "code",
   "execution_count": 66,
   "metadata": {},
   "outputs": [
    {
     "name": "stdout",
     "output_type": "stream",
     "text": [
      "Original dataset shape Counter({0: 41750, 1: 8250})\n",
      "Resampled dataset shape Counter({0: 40485, 1: 40485})\n"
     ]
    }
   ],
   "source": [
    "from collections import Counter\n",
    "print('Original dataset shape {}'.format(Counter(y)))\n",
    "print('Resampled dataset shape {}'.format(Counter(y_res)))"
   ]
  },
  {
   "cell_type": "markdown",
   "metadata": {},
   "source": [
    "### Model Creation"
   ]
  },
  {
   "cell_type": "markdown",
   "metadata": {},
   "source": [
    "###### Logistic Regression"
   ]
  },
  {
   "cell_type": "code",
   "execution_count": 77,
   "metadata": {},
   "outputs": [],
   "source": [
    "def logistic(X_res,y_res):\n",
    "    X_train,X_test,y_train,y_test = train_test_split(X_res,y_res,test_size=.3,random_state =21)\n",
    "    lr = LogisticRegression()\n",
    "    model = lr.fit(X_train,y_train)\n",
    "    return [model,model.score(X_test,y_test),X_test,y_test]"
   ]
  },
  {
   "cell_type": "markdown",
   "metadata": {},
   "source": [
    "###### Support Vector Machine"
   ]
  },
  {
   "cell_type": "code",
   "execution_count": 78,
   "metadata": {},
   "outputs": [],
   "source": [
    "def support(X_res,y_res):\n",
    "    X_train,X_test,y_train,y_test = train_test_split(X_res,y_res,test_size=.3,random_state =12)\n",
    "    svc = SVC(kernel=\"linear\")\n",
    "    model = svc.fit(X_train,y_train)\n",
    "    return [model,model.score(X_test,y_test),X_test,y_test]\n"
   ]
  },
  {
   "cell_type": "code",
   "execution_count": 79,
   "metadata": {
    "scrolled": true
   },
   "outputs": [
    {
     "name": "stdout",
     "output_type": "stream",
     "text": [
      "Select the option\n",
      "Logestic Regression Enter --> L\n",
      "Support Vector Classification Enter --> S\n",
      "L\n",
      "Your Model is ready with the accuracy of-->50.60722078135935%\n",
      "Testing data is also ready\n"
     ]
    }
   ],
   "source": [
    "print(\"Select the option\")\n",
    "print(\"Logestic Regression Enter --> L\")\n",
    "print(\"Support Vector Classification Enter --> S\")\n",
    "select = input()\n",
    "if select == \"L\":\n",
    "    model,accuracy,X_test,y_test = logistic(X_res,y_res)\n",
    "    print(f\"Your Model is ready with the accuracy of-->{accuracy*100}%\")\n",
    "    print(\"Testing data is also ready\")\n",
    "elif select ==\"S\":\n",
    "    model,accuracy,X_test,y_test = support(X,y)\n",
    "    print(f\"Your Model is ready with the accuracy of-->{accuracy*100}%\")\n",
    "    print(\"Testing data is also ready\")\n",
    "else: \n",
    "    print(\"Correct Option\")"
   ]
  },
  {
   "cell_type": "code",
   "execution_count": 13,
   "metadata": {},
   "outputs": [
    {
     "name": "stdout",
     "output_type": "stream",
     "text": [
      "Enter the value you want to test-->10\n",
      "Predicted data --> Not Liked\n",
      "Original data -->Liked\n"
     ]
    }
   ],
   "source": [
    "select = int(input(\"Enter the value you want to test-->\"))\n",
    "system('cls')\n",
    "if model.predict(X_test[select].reshape(1,-1))[0] ==0:\n",
    "    print(\"Predicted data --> Not Liked\")\n",
    "else:\n",
    "    print(\"Predicted data -->Liked\")\n",
    "if y_test[select] ==0:\n",
    "    print(\"Original data --> Not Liked\")\n",
    "else:\n",
    "    print(\"Original data -->Liked\")"
   ]
  },
  {
   "cell_type": "markdown",
   "metadata": {},
   "source": [
    "#### Other Models"
   ]
  },
  {
   "cell_type": "code",
   "execution_count": 110,
   "metadata": {},
   "outputs": [],
   "source": [
    "X_train,X_test,y_train,y_test = train_test_split(X_res,y_res,test_size=.3,random_state =21)"
   ]
  },
  {
   "cell_type": "code",
   "execution_count": 93,
   "metadata": {},
   "outputs": [],
   "source": [
    "from sklearn.metrics import confusion_matrix"
   ]
  },
  {
   "cell_type": "markdown",
   "metadata": {},
   "source": [
    "### Naive_bayes"
   ]
  },
  {
   "cell_type": "code",
   "execution_count": 97,
   "metadata": {},
   "outputs": [
    {
     "name": "stdout",
     "output_type": "stream",
     "text": [
      "Increased Data Score--> 51.1\n",
      "Original Data Score--> 37.34\n",
      "Predicted Liked--> 34824\n",
      "Original Liked--> 12164\n",
      "\n",
      " [[3733 8394]\n",
      " [3484 8680]]\n"
     ]
    }
   ],
   "source": [
    "from sklearn.naive_bayes import GaussianNB\n",
    "model = GaussianNB()\n",
    "model.fit(X_train,y_train)\n",
    "print(\"Increased Data Score-->\",round(model.score(X_test,y_test),4)*100)\n",
    "print(\"Original Data Score-->\",round(model.score(X,y),4)*100)\n",
    "pred = model.predict(X)\n",
    "count =0\n",
    "for i in pred:\n",
    "    if i==1:\n",
    "        count+=1\n",
    "print(\"Predicted Liked-->\",count)\n",
    "count =0\n",
    "for i in y_test:\n",
    "    if i==1:\n",
    "        count+=1\n",
    "print(\"Original Liked-->\",count)\n",
    "pred = model.predict(X_test)\n",
    "print(\"\\n\",confusion_matrix(y_test,pred))"
   ]
  },
  {
   "cell_type": "markdown",
   "metadata": {},
   "source": [
    "### DecisionTress"
   ]
  },
  {
   "cell_type": "code",
   "execution_count": 98,
   "metadata": {},
   "outputs": [
    {
     "name": "stdout",
     "output_type": "stream",
     "text": [
      "Increased Data Score--> 81.67999999999999\n",
      "Original Data Score--> 90.81\n",
      "Predicted Liked--> 9001\n",
      "Original Liked--> 12164\n",
      "\n",
      " [[ 9766  2361]\n",
      " [ 2088 10076]]\n"
     ]
    }
   ],
   "source": [
    "from sklearn.tree import DecisionTreeClassifier\n",
    "model = DecisionTreeClassifier()\n",
    "model.fit(X_train,y_train)\n",
    "print(\"Increased Data Score-->\",round(model.score(X_test,y_test),4)*100)\n",
    "print(\"Original Data Score-->\",round(model.score(X,y),4)*100)\n",
    "pred = model.predict(X)\n",
    "count =0\n",
    "for i in pred:\n",
    "    if i==1:\n",
    "        count+=1\n",
    "print(\"Predicted Liked-->\",count)\n",
    "count =0\n",
    "for i in y_test:\n",
    "    if i==1:\n",
    "        count+=1\n",
    "print(\"Original Liked-->\",count)\n",
    "pred = model.predict(X_test)\n",
    "print(\"\\n\",confusion_matrix(y_test,pred))"
   ]
  },
  {
   "cell_type": "markdown",
   "metadata": {},
   "source": [
    "### RandomForest"
   ]
  },
  {
   "cell_type": "code",
   "execution_count": 99,
   "metadata": {},
   "outputs": [
    {
     "name": "stdout",
     "output_type": "stream",
     "text": [
      "Increased Data Score--> 89.45\n",
      "Original Data Score--> 94.46\n",
      "Predicted Liked--> 6974\n",
      "Original Liked--> 12164\n",
      "\n",
      " [[11563   564]\n",
      " [ 1999 10165]]\n"
     ]
    }
   ],
   "source": [
    "from sklearn.ensemble import RandomForestClassifier\n",
    "model = RandomForestClassifier()\n",
    "model.fit(X_train,y_train)\n",
    "print(\"Increased Data Score-->\",round(model.score(X_test,y_test),4)*100)\n",
    "print(\"Original Data Score-->\",round(model.score(X,y),4)*100)\n",
    "pred = model.predict(X)\n",
    "count =0\n",
    "for i in pred:\n",
    "    if i==1:\n",
    "        count+=1\n",
    "print(\"Predicted Liked-->\",count)\n",
    "count =0\n",
    "for i in y_test:\n",
    "    if i==1:\n",
    "        count+=1\n",
    "print(\"Original Liked-->\",count)\n",
    "pred = model.predict(X_test)\n",
    "print(\"\\n\",confusion_matrix(y_test,pred))"
   ]
  },
  {
   "cell_type": "markdown",
   "metadata": {},
   "source": [
    "### Neural Net"
   ]
  },
  {
   "cell_type": "code",
   "execution_count": 116,
   "metadata": {},
   "outputs": [],
   "source": [
    "from tensorflow.keras.models import Sequential\n",
    "from tensorflow.keras.layers import Dense,Dropout"
   ]
  },
  {
   "cell_type": "code",
   "execution_count": 125,
   "metadata": {},
   "outputs": [
    {
     "name": "stdout",
     "output_type": "stream",
     "text": [
      "Epoch 1/10\n",
      "5668/5668 [==============================] - 7s 1ms/step - loss: 3.4060e-08 - accuracy: 0.4174 - val_loss: 1.1921e-07 - val_accuracy: 0.9772\n",
      "Epoch 2/10\n",
      "5668/5668 [==============================] - 6s 1ms/step - loss: 3.4060e-08 - accuracy: 0.4242 - val_loss: 1.1921e-07 - val_accuracy: 0.9772\n",
      "Epoch 3/10\n",
      "5668/5668 [==============================] - 6s 1ms/step - loss: 3.4060e-08 - accuracy: 0.4186 - val_loss: 1.1921e-07 - val_accuracy: 0.9772\n",
      "Epoch 4/10\n",
      "5668/5668 [==============================] - 6s 1ms/step - loss: 3.4060e-08 - accuracy: 0.4191 - val_loss: 1.1921e-07 - val_accuracy: 0.9772\n",
      "Epoch 5/10\n",
      "5668/5668 [==============================] - 6s 1ms/step - loss: 3.4060e-08 - accuracy: 0.4186 - val_loss: 1.1921e-07 - val_accuracy: 0.9772\n",
      "Epoch 6/10\n",
      "5668/5668 [==============================] - 7s 1ms/step - loss: 3.4060e-08 - accuracy: 0.4200 - val_loss: 1.1921e-07 - val_accuracy: 0.9772\n",
      "Epoch 7/10\n",
      "5668/5668 [==============================] - 6s 1ms/step - loss: 3.4060e-08 - accuracy: 0.4186 - val_loss: 1.1921e-07 - val_accuracy: 0.9772\n",
      "Epoch 8/10\n",
      "5668/5668 [==============================] - 7s 1ms/step - loss: 3.4060e-08 - accuracy: 0.4189 - val_loss: 1.1921e-07 - val_accuracy: 0.9772\n",
      "Epoch 9/10\n",
      "5668/5668 [==============================] - 7s 1ms/step - loss: 3.4060e-08 - accuracy: 0.4193 - val_loss: 1.1921e-07 - val_accuracy: 0.9772\n",
      "Epoch 10/10\n",
      "5668/5668 [==============================] - 7s 1ms/step - loss: 3.4060e-08 - accuracy: 0.4170 - val_loss: 1.1921e-07 - val_accuracy: 0.9772\n"
     ]
    }
   ],
   "source": [
    "model = Sequential()\n",
    "model.add(Dense(310,activation=\"relu\",input_shape=(8,)))\n",
    "model.add(Dropout(.5))\n",
    "model.add(Dense(90,activation=\"relu\"))\n",
    "model.add(Dropout(.5))\n",
    "model.add(Dense(1,activation=\"sigmoid\"))\n",
    "model.compile(loss= \"categorical_crossentropy\",optimizer=\"adam\",metrics=[\"accuracy\"])\n",
    "his =model.fit(X_res,y_res,epochs=10,validation_split=.3,batch_size=10)"
   ]
  }
 ],
 "metadata": {
  "kernelspec": {
   "display_name": "Python 3",
   "language": "python",
   "name": "python3"
  },
  "language_info": {
   "codemirror_mode": {
    "name": "ipython",
    "version": 3
   },
   "file_extension": ".py",
   "mimetype": "text/x-python",
   "name": "python",
   "nbconvert_exporter": "python",
   "pygments_lexer": "ipython3",
   "version": "3.7.6"
  }
 },
 "nbformat": 4,
 "nbformat_minor": 4
}
